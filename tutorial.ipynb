{
 "cells": [
  {
   "attachments": {},
   "cell_type": "markdown",
   "metadata": {},
   "source": [
    "# Using an OOP-Approach for string citations in GFCC Decisions\n",
    "\n",
    "Kilian Lüders & Bent Stohlmann\n",
    "\n",
    "Contact: kilian.lueders@hu-berlin.de\n",
    "\n",
    "\n",
    "### Abstract\n",
    "In this short tutorial, we introduce our object-oriented approach to capture string citations of the German Federal Constitutional Court (GFCC). The references have a particular layout for which we have created a custom solution. Here we first show the basic application of our solution and then introduce a concrete case study to show the potentials.\n",
    "\n",
    "## Problem description\n",
    "### The reference notation\n",
    "The GFCC makes very extensive use of self-references. They are virtually ubiquituos to the the court's reasoning and can be considered the court's most used explicit reference. Therefore, self-references are important to an analysis of the courts argumentation. These self-references generally have the following notation:\n",
    "\n",
    "*BVerfGE 58, 300 [336]*\n",
    "\n",
    "'BVerfGE' is the name of the official collection of decisions. The first number indicates the volume (58), followed by the first page of the decision (300) and a precise reference to a page (336). The last reference is optional.\n",
    "These self-references often occur as chain citations, for example, in the following format:\n",
    "\n",
    "*BVerfGE 25, 112 [114]; 51, 193 [210 f.]; 52, 1 [14]*\n",
    "\n",
    "In this example, we are dealing with three self-references. These chains of citations, which we will call string citations going forward, are of particular importance for the GFCC. They link different references to earlier decisions together and thereby \"bundle\" them to support particular statements or arguments. This bundling contains valuable information transcending the information obtained by observing the citations separately. To understand this value one has to consider that while often using self-references in its decisions the GFCC almost never adresses the cited case in text. This stands in stark contrast to for example common law traditions whitin in which their can be lenghty discussions about the applicability of findings from the cited case to the new decision. In making use of string citations, the GFCC gives us a rare piece of information on structure within its approach to its own case law. Against the backdrop of such information being very scarce, the information about which decisions are referred to whithin the same string citation is of great value to the analysis of the GFCC's jurisprudence.\n",
    "\n",
    "### The task\n",
    "The court uses the layout described above for self-references very consistently. There is slight variation, but ultimately the rules of notation are quite predictable.\n",
    "Accordingly, capturing self-references is also feasible with rule-based approaches. There is also research that has done this successfully[¹²].\n",
    "\n",
    "However, these approaches were quite inaccurate insofar as they lost significant information, such as the exact references or belonging to chain references. The big challenge seemed to be less the extraction of information than the handling of the information.\n",
    "\n",
    "The approach presented here tries to offer a solution for this problem. The simple means of programming 101 are used to find a customized solution for the string citations of the BVerfGE.\n",
    "\n",
    "In the following, we will present our approach. It is not particularly sophisticated from the technical point of view. Rather, it is intended to show that very helpful solutions can be created with simple means of prgramming. In this case, it is about the storage and processing of very unique data of self references.\n",
    "\n",
    "### The solution\n",
    "The solution technique used is essentially the implementation of an object-oriented approach. Thereby, dedicated classes are introduced for BVerfGE references and its strig citations. These include the essential attributes and methods to use the data for common problems.\n",
    "\n",
    "We assume a certain basic knowledge of object oriented programming. The examples should be comprehensible even without this knowledge, but we recommend to acquire the basic concept of object orientation.\n",
    "\n",
    "### Notes\n",
    "[¹]: Coupette (2019): Juristische Netzwerkforschung. Mohr Siebeck. [Link](https://www.mohrsiebeck.com/buch/juristische-netzwerkforschung-9783161570124?no_cache=1)\n",
    "\n",
    "[²]: Ighreiz et al (2022): Karlsruher Kanones? [Link](https://www.mohrsiebeck.com/artikel/karlsruher-kanones-101628aoer-2020-0026?no_cache=1)\n",
    "\n",
    "\n"
   ]
  },
  {
   "attachments": {},
   "cell_type": "markdown",
   "metadata": {},
   "source": [
    "## Introduction of the class  Verweis for references\n",
    "\n",
    "For the purpose of this tutorial, we have saved the code to implement our approach in the *bverfgex/* folder. It behaves like a package and can be imported.\n",
    "\n",
    "The core of our approach is the class *Verweis* (german for reference). It can be used to save self-references in the BVerfGE notation. This is possible because it has the necessary attributes:\n",
    "- *band:* Volume of the decision referred to.\n",
    "- *anfang:* First page of the decision referred to.\n",
    "- *ref:* Precise reference (optional)\n",
    "\n",
    "In the following, we show an example of how individual reference instances of the class *Verweis* can be created. We generate references to the decision 'BVerfGE58,300'. This is the so-called Naßauskiesungsbeschluss a very well-known and beloved decision of the GFCC."
   ]
  },
  {
   "cell_type": "code",
   "execution_count": null,
   "metadata": {},
   "outputs": [],
   "source": [
    "from bverfgex import *\n",
    "\n",
    "# a first instance of the class verweis\n",
    "\n",
    "our_citation = Verweis(band=\"58\", anfang=\"300\")\n",
    "our_citation"
   ]
  },
  {
   "cell_type": "code",
   "execution_count": null,
   "metadata": {},
   "outputs": [],
   "source": [
    "# it is of the type 'Verweis'\n",
    "\n",
    "type(our_citation)"
   ]
  },
  {
   "cell_type": "code",
   "execution_count": null,
   "metadata": {},
   "outputs": [],
   "source": [
    "# showing an attribut\n",
    "\n",
    "our_citation.anfang"
   ]
  },
  {
   "cell_type": "code",
   "execution_count": null,
   "metadata": {},
   "outputs": [],
   "source": [
    "# a second instance of the class verweis with exact reference\n",
    "\n",
    "second_citation = Verweis(band=\"58\", anfang=\"300\", ref=\"351\")\n",
    "second_citation"
   ]
  },
  {
   "cell_type": "code",
   "execution_count": null,
   "metadata": {},
   "outputs": [],
   "source": [
    "# We have included methods in the class to output the references in typical notations.\n",
    "\n",
    "print(second_citation)\n",
    "\n",
    "print(second_citation.to_info_str())\n",
    "\n",
    "print(second_citation.to_short_str())"
   ]
  },
  {
   "attachments": {},
   "cell_type": "markdown",
   "metadata": {},
   "source": [
    "## String Citations\n",
    "\n",
    "In addition, there is a second class *Verweiskette* for string citations. This class contains objects of the class *Verweis*. In a way it is a list of references and behaves like an oridnary python list. However, it simplifies the handling with string citations, for example by making well readable outputs.\n",
    "\n",
    "As examples, we take string citations from the Naßauskiesungsbeschluss."
   ]
  },
  {
   "cell_type": "code",
   "execution_count": null,
   "metadata": {},
   "outputs": [],
   "source": [
    "\"BVerfGE 37, 132 [140]; 50, 290 [339]; 52, 1 [31]\"\n",
    "\n",
    "our_string_citation = Verweiskette([Verweis(band=\"37\", anfang=\"132\", ref=\"140\"),\n",
    "                                   Verweis(band=\"50\", anfang=\"290\", ref=\"339\"),\n",
    "                                   Verweis(band=\"52\", anfang=\"1\", ref=\"31\")])\n",
    "\n",
    "our_string_citation"
   ]
  },
  {
   "cell_type": "code",
   "execution_count": null,
   "metadata": {},
   "outputs": [],
   "source": [
    "type(our_string_citation)"
   ]
  },
  {
   "cell_type": "code",
   "execution_count": null,
   "metadata": {},
   "outputs": [],
   "source": [
    "# It has the typical properties of a list.\n",
    "# For example, you can print the number of citations or iterate over it.\n",
    "\n",
    "print(len(our_string_citation))\n",
    "\n",
    "for element in our_string_citation:\n",
    "    print(element)"
   ]
  },
  {
   "cell_type": "code",
   "execution_count": null,
   "metadata": {},
   "outputs": [],
   "source": [
    "#Again, there are methods to make it easier to deal with string citations.\n",
    "\n",
    "# make a list of citation as strings\n",
    "print(our_string_citation.to_short_str())\n",
    "\n",
    "#make a list of Verweis objects\n",
    "print(our_string_citation.to_list())"
   ]
  },
  {
   "attachments": {},
   "cell_type": "markdown",
   "metadata": {},
   "source": [
    "## Automatic Extraction\n",
    "\n",
    "One advantage of this approach is the scalability, which pays off when working with many references. To demonstrate this, in the following we will take a decision and extract all string citations.\n",
    "\n",
    "We have provided the entire decision text of the Nassauskiesung as an example. It is from the LLCon corpus in an xml format (see *data/BVerfGE58,300.xml*).\n",
    "\n",
    "As code we already provided the necessary functions to prepare the data, extract the references and return them as *Verweiskette* objects.\n",
    "\n",
    "For the extraction we used regex pattern."
   ]
  },
  {
   "cell_type": "code",
   "execution_count": null,
   "metadata": {},
   "outputs": [],
   "source": [
    "# load decision as a pandas dataframe\n",
    "import pandas as pd\n",
    "\n",
    "dec_df = load_llcon_xml(\"data/BVerfGE58,300.xml\")\n",
    "dec_df['text_raw'] = dec_df.text_raw + \" \"\n",
    "nassauskiesung = dec_df.groupby(\"tbeg\").agg({'text_raw': 'sum'}).loc['eg']['text_raw']\n",
    "\n",
    "# Creating one string that contains the whole reasoning of the decision.\n",
    "\n",
    "print(type(nassauskiesung))\n",
    "print(nassauskiesung[:1000])"
   ]
  },
  {
   "cell_type": "code",
   "execution_count": null,
   "metadata": {},
   "outputs": [],
   "source": [
    "# extraction of references\n",
    "nassauskiesung_ref = search_bverfge_verweis(nassauskiesung)\n",
    "nassauskiesung_ref"
   ]
  },
  {
   "cell_type": "code",
   "execution_count": null,
   "metadata": {},
   "outputs": [],
   "source": [
    "# As output we get a list with all string citations as *Verweisketten* objects\n",
    "print(len(nassauskiesung_ref))\n",
    "print(type(nassauskiesung_ref))\n",
    "print(type(nassauskiesung_ref[0]))"
   ]
  },
  {
   "cell_type": "code",
   "execution_count": null,
   "metadata": {},
   "outputs": [],
   "source": [
    "# For simplified handling, we can insert this data into a pandas dataframe.\n",
    "ref_data = pd.DataFrame({\n",
    "    'ref': nassauskiesung_ref,\n",
    "    'len': [len(x) for x in nassauskiesung_ref]\n",
    "})\n",
    "\n",
    "ref_data.head()"
   ]
  },
  {
   "cell_type": "code",
   "execution_count": null,
   "metadata": {},
   "outputs": [],
   "source": [
    "# so we can get an overview of the length of the string citations\n",
    "ref_data.value_counts('len')"
   ]
  },
  {
   "cell_type": "code",
   "execution_count": null,
   "metadata": {},
   "outputs": [],
   "source": [
    "# or filter all chains with a certain length\n",
    "ref_data[ref_data.len > 2]"
   ]
  },
  {
   "cell_type": "code",
   "execution_count": null,
   "metadata": {},
   "outputs": [],
   "source": [
    "# This way, the built-in methods and attributes can be used very efficiently for many references.\n",
    "\n",
    "# Here, each *Verweisketten* object becomes a list in the short string format.\n",
    "# This format that has been used by others in the literature for network analysis.\n",
    "\n",
    "ref_data['ref_list'] = ref_data['ref'].apply(lambda x: x.to_short_str())\n",
    "ref_data.head(5)"
   ]
  },
  {
   "attachments": {},
   "cell_type": "markdown",
   "metadata": {},
   "source": [
    "## Use of network packages\n",
    "\n",
    "*Verweisketten* data can also be easily prepared so that it can be used with other tools. This is especially important for network libraries in Pyhton and R, such as networkx or igraph. To make the data accessible for the work with such tools, one can for example create lists of weighted edges.\n",
    "\n",
    "As a small example, we create a network from the decisions referenced by the Nassauskiesung decision. Therefore, we use networkx, a standard library for network analysis and visualisation in Python."
   ]
  },
  {
   "cell_type": "code",
   "execution_count": null,
   "metadata": {},
   "outputs": [],
   "source": [
    "# creat wighted edgelist\n",
    "\n",
    "import itertools\n",
    "\n",
    "# From nested list (chains of references) to flat list of references:\n",
    "# Here the information in which chain a reference occurs was ignored.\n",
    "outgoing_refs_list = list(itertools.chain(*ref_data.ref_list))\n",
    "\n",
    "weighted_edges = [('BVerfGE58,300',x,outgoing_refs_list.count(x)) for x in set(outgoing_refs_list)]\n",
    "weighted_edges"
   ]
  },
  {
   "cell_type": "code",
   "execution_count": null,
   "metadata": {},
   "outputs": [],
   "source": [
    "# import weighted edgelist in a network library\n",
    "\n",
    "import networkx as nx\n",
    "import matplotlib.pyplot as plt\n",
    "G = nx.Graph()\n",
    "G.add_weighted_edges_from(weighted_edges)\n",
    "\n",
    "nx.draw(G, with_labels=False)"
   ]
  },
  {
   "cell_type": "code",
   "execution_count": null,
   "metadata": {},
   "outputs": [],
   "source": [
    "# draw a weighted plot\n",
    "\n",
    "pos=nx.spring_layout(G)\n",
    "nx.draw_networkx(G,pos, with_labels=False)\n",
    "labels = nx.get_edge_attributes(G,'weight')\n",
    "nx.draw_networkx_edge_labels(G,pos,edge_labels=labels)\n",
    "plt.show()"
   ]
  },
  {
   "attachments": {},
   "cell_type": "markdown",
   "metadata": {},
   "source": [
    "## Exemplary analyses\n",
    "\n",
    "\n",
    "Given the possibilities of what our approach, we want to conclude by giving two examples of what substantive questions we can answer. \n",
    "The first example is about chain citiation. Here, the question is whether there are typical chains, i.e., chains that occur more frequently. It is also interesting to see which references frequently occur together in a chain.\n",
    "The second example is about the exact page references. We want to see if there are certain pages in decisions that are cited more often.\n",
    "\n",
    "For this purpose we have prepared a small test data set. This contains references to the Nassauskiesungsbeschluss."
   ]
  },
  {
   "cell_type": "code",
   "execution_count": null,
   "metadata": {},
   "outputs": [],
   "source": [
    "#import test df\n",
    "\n",
    "test_data = pd.read_pickle(\"data/bverfge_test_data.pkl\")\n",
    "print(test_data.shape)\n",
    "test_data.head()"
   ]
  },
  {
   "attachments": {},
   "cell_type": "markdown",
   "metadata": {},
   "source": [
    "### String Cocitation\n",
    "\n",
    "First, we want to extract all string citations in which the Nassauskiesungsbeschluss is referred to. It turns out that there are chains that are used repeatedly."
   ]
  },
  {
   "cell_type": "code",
   "execution_count": null,
   "metadata": {},
   "outputs": [],
   "source": [
    "cs_data = test_data.copy()\n",
    "cs_data['ref_list'] = cs_data.ref.apply(lambda x: x.to_short_str())\n",
    "cs_data[cs_data.ref_len > 1].ref_list.value_counts().head(10)"
   ]
  },
  {
   "attachments": {},
   "cell_type": "markdown",
   "metadata": {},
   "source": [
    "Next, we want to know what other references are included in the string citations that also refer to the Nassauskiesung."
   ]
  },
  {
   "cell_type": "code",
   "execution_count": null,
   "metadata": {},
   "outputs": [],
   "source": [
    "coref_test_data = cs_data[cs_data.ref_len > 1].explode('ref_list').reset_index()\n",
    "coref_test_data = coref_test_data.drop(coref_test_data[coref_test_data.ref_list == \"BVerfGE58_300\"].index)\n",
    "coref_test_data.ref_list.value_counts().to_frame().reset_index().rename(columns={'ref_list':'coditation',0:'n'}).head(10)"
   ]
  },
  {
   "attachments": {},
   "cell_type": "markdown",
   "metadata": {},
   "source": [
    "#### Exact References\n",
    "\n",
    "Lastly, it is about the exact place references. This has not yet been considered in research. However, it is interesting to know if specific passages in decisions receive special attention.\n",
    "In the example below, we look at which passages of the Nassauskiesungsbeschluss are referenced."
   ]
  },
  {
   "cell_type": "code",
   "execution_count": null,
   "metadata": {},
   "outputs": [],
   "source": [
    "page_data = test_data.explode('ref')\n",
    "page_data['str'] = page_data.ref.apply(lambda x: x.to_short_str())\n",
    "page_data = page_data[page_data['str'] == \"BVerfGE58_300\"]\n",
    "page_data['page'] = page_data.ref.apply(lambda x: x.ref)\n",
    "page_data['page_nr'] = page_data.ref.apply(lambda x: x.ref_clean)\n",
    "page_data.head()"
   ]
  },
  {
   "cell_type": "code",
   "execution_count": null,
   "metadata": {},
   "outputs": [],
   "source": [
    "page_data.page_nr.value_counts().to_frame().reset_index().rename(columns={'index':'page', 'page_nr':'n'}).head(10)"
   ]
  }
 ],
 "metadata": {
  "kernelspec": {
   "display_name": "base",
   "language": "python",
   "name": "python3"
  },
  "language_info": {
   "codemirror_mode": {
    "name": "ipython",
    "version": 3
   },
   "file_extension": ".py",
   "mimetype": "text/x-python",
   "name": "python",
   "nbconvert_exporter": "python",
   "pygments_lexer": "ipython3",
   "version": "3.10.11"
  },
  "orig_nbformat": 4
 },
 "nbformat": 4,
 "nbformat_minor": 2
}
