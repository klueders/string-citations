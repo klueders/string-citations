{
 "cells": [
  {
   "attachments": {},
   "cell_type": "markdown",
   "metadata": {},
   "source": [
    "# Using an OOP-Approach for string citations in GFCC Decisions\n",
    "\n",
    "Kilian Lüders & Bent Stohlmann\n",
    "\n",
    "Contact: kilian.lueders@hu-berlin.de\n",
    "\n",
    "\n",
    "### Abstract\n",
    "In this short tutorial, we introduce our object-oriented approach to capture string citations of the German Federal Constitutional Court (GFCC). The references have a particular layout for which we have created a custom solution. Here we first show the basic application of our solution and then introduce a concrete case study to show the potentials.\n",
    "\n",
    "## Problem description\n",
    "### The reference notation\n",
    "The GFCC makes very extensive use of self-references. They are virtually ubiquituos to the the court's reasoning and can be considered the court's most used explicit reference. Therefore, self-references are important to an analysis of the courts argumentation. These self-references generally have the following notation:\n",
    "\n",
    "*BVerfGE 58, 300 [336]*\n",
    "\n",
    "'BVerfGE' is the name of the official collection of decisions. The first number indicates the volume (58), followed by the first page of the decision (300) and a precise reference to a page (336). The last reference is optional.\n",
    "These self-references often occur as chain citations, for example, in the following format:\n",
    "\n",
    "*BVerfGE 25, 112 [114]; 51, 193 [210 f.]; 52, 1 [14]*\n",
    "\n",
    "In this example, we are dealing with three self-references. These chains of citations, which we will call string citations going forward, are of particular importance for the GFCC. They link different references to earlier decisions together and thereby \"bundle\" them to support particular statements or arguments. This bundling contains valuable information transcending the information obtained by observing the citations separately. To understand this value one has to consider that while often using self-references in its decisions the GFCC almost never adresses the cited case in text. This stands in stark contrast to for example common law traditions whitin in which their can be lenghty discussions about the applicability of findings from the cited case to the new decision. In making use of string citations, the GFCC gives us a rare piece of information on structure within its approach to its own case law. Against the backdrop of such information being very scarce, the information about which decisions are referred to whithin the same string citation is of great value to the analysis of the GFCC's jurisprudence.\n",
    "\n",
    "### The task\n",
    "The court uses the layout described above for self-references very consistently. There is slight variation, but ultimately the rules of notation are quite predictable.\n",
    "Accordingly, capturing self-references is also feasible with rule-based approaches. There is also research that has done this successfully[¹²].\n",
    "\n",
    "However, these approaches were quite inaccurate insofar as they lost significant information, such as the exact references or belonging to chain references. The big challenge seemed to be less the extraction of information than the handling of the information.\n",
    "\n",
    "The approach presented here tries to offer a solution for this problem. The simple means of programming 101 are used to find a customized solution for the string citations of the BVerfGE.\n",
    "\n",
    "In the following, we will present our approach. It is not particularly sophisticated from the technical point of view. Rather, it is intended to show that very helpful solutions can be created with simple means of prgramming. In this case, it is about the storage and processing of very unique data of self references.\n",
    "\n",
    "### The solution\n",
    "The solution technique used is essentially the implementation of an object-oriented approach. Thereby, dedicated classes are introduced for BVerfGE references and its strig citations. These include the essential attributes and methods to use the data for common problems.\n",
    "\n",
    "We assume a certain basic knowledge of object oriented programming. The examples should be comprehensible even without this knowledge, but we recommend to acquire the basic concept of object orientation.\n",
    "\n",
    "### Notes\n",
    "[¹]: Coupette (2019): Juristische Netzwerkforschung. Mohr Siebeck. [Link](https://www.mohrsiebeck.com/buch/juristische-netzwerkforschung-9783161570124?no_cache=1)\n",
    "\n",
    "[²]: Ighreiz et al (2022): Karlsruher Kanones? [Link](https://www.mohrsiebeck.com/artikel/karlsruher-kanones-101628aoer-2020-0026?no_cache=1)\n",
    "\n",
    "\n"
   ]
  },
  {
   "attachments": {},
   "cell_type": "markdown",
   "metadata": {},
   "source": [
    "## Introduction of the class  Verweis for references\n",
    "\n",
    "For the purpose of this tutorial, we have saved the code to implement our approach in the *bverfgex/* folder. It behaves like a package and can be imported.\n",
    "\n",
    "The core of our approach is the class *Verweis* (german for reference). It can be used to save self-references in the BVerfGE notation. This is possible because it has the necessary attributes:\n",
    "- *band:* Volume of the decision referred to.\n",
    "- *anfang:* First page of the decision referred to.\n",
    "- *ref:* Precise reference (optional)\n",
    "\n",
    "In the following, we show an example of how individual reference instances of the class *Verweis* can be created. We generate references to the decision 'BVerfGE58,300'. This is the so-called Naßauskiesungsbeschluss a very well-known and beloved decision of the GFCC."
   ]
  },
  {
   "cell_type": "code",
   "execution_count": 1,
   "metadata": {},
   "outputs": [
    {
     "data": {
      "text/plain": [
       "BVerfGE 58, 300"
      ]
     },
     "execution_count": 1,
     "metadata": {},
     "output_type": "execute_result"
    }
   ],
   "source": [
    "from bverfgex import *\n",
    "\n",
    "# a first instance of the class verweis\n",
    "\n",
    "our_citation = Verweis(band=\"58\", anfang=\"300\")\n",
    "our_citation"
   ]
  },
  {
   "cell_type": "code",
   "execution_count": 2,
   "metadata": {},
   "outputs": [
    {
     "data": {
      "text/plain": [
       "bverfgex.verweis.Verweis"
      ]
     },
     "execution_count": 2,
     "metadata": {},
     "output_type": "execute_result"
    }
   ],
   "source": [
    "# it is of the type 'Verweis'\n",
    "\n",
    "type(our_citation)"
   ]
  },
  {
   "cell_type": "code",
   "execution_count": 3,
   "metadata": {},
   "outputs": [
    {
     "data": {
      "text/plain": [
       "'300'"
      ]
     },
     "execution_count": 3,
     "metadata": {},
     "output_type": "execute_result"
    }
   ],
   "source": [
    "# showing an attribut\n",
    "\n",
    "our_citation.anfang"
   ]
  },
  {
   "cell_type": "code",
   "execution_count": 4,
   "metadata": {},
   "outputs": [
    {
     "data": {
      "text/plain": [
       "BVerfGE 58, 300 [351]"
      ]
     },
     "execution_count": 4,
     "metadata": {},
     "output_type": "execute_result"
    }
   ],
   "source": [
    "# a second instance of the class verweis with exact reference\n",
    "\n",
    "second_citation = Verweis(band=\"58\", anfang=\"300\", ref=\"351\")\n",
    "second_citation"
   ]
  },
  {
   "cell_type": "code",
   "execution_count": 5,
   "metadata": {},
   "outputs": [
    {
     "name": "stdout",
     "output_type": "stream",
     "text": [
      "BVerfGE 58, 300 [351]\n",
      "58, 300 [351]\n",
      "BVerfGE58_300\n"
     ]
    }
   ],
   "source": [
    "# We have included methods in the class to output the references in typical notations.\n",
    "\n",
    "print(second_citation)\n",
    "\n",
    "print(second_citation.to_info_str())\n",
    "\n",
    "print(second_citation.to_short_str())"
   ]
  },
  {
   "attachments": {},
   "cell_type": "markdown",
   "metadata": {},
   "source": [
    "## String Citations\n",
    "\n",
    "In addition, there is a second class *Verweiskette* for string citations. This class contains objects of the class *Verweis*. In a way it is a list of references and behaves like an oridnary python list. However, it simplifies the handling with string citations, for example by making well readable outputs.\n",
    "\n",
    "As examples, we take string citations from the Naßauskiesungsbeschluss."
   ]
  },
  {
   "cell_type": "code",
   "execution_count": 6,
   "metadata": {},
   "outputs": [
    {
     "data": {
      "text/plain": [
       "BVerfGE 37, 132 [140]; 50, 290 [339]; 52, 1 [31]"
      ]
     },
     "execution_count": 6,
     "metadata": {},
     "output_type": "execute_result"
    }
   ],
   "source": [
    "\"BVerfGE 37, 132 [140]; 50, 290 [339]; 52, 1 [31]\"\n",
    "\n",
    "our_string_citation = Verweiskette([Verweis(band=\"37\", anfang=\"132\", ref=\"140\"),\n",
    "                                   Verweis(band=\"50\", anfang=\"290\", ref=\"339\"),\n",
    "                                   Verweis(band=\"52\", anfang=\"1\", ref=\"31\")])\n",
    "\n",
    "our_string_citation"
   ]
  },
  {
   "cell_type": "code",
   "execution_count": 7,
   "metadata": {},
   "outputs": [
    {
     "data": {
      "text/plain": [
       "bverfgex.verweis.Verweiskette"
      ]
     },
     "execution_count": 7,
     "metadata": {},
     "output_type": "execute_result"
    }
   ],
   "source": [
    "type(our_string_citation)"
   ]
  },
  {
   "cell_type": "code",
   "execution_count": 8,
   "metadata": {},
   "outputs": [
    {
     "name": "stdout",
     "output_type": "stream",
     "text": [
      "3\n",
      "BVerfGE 37, 132 [140]\n",
      "BVerfGE 50, 290 [339]\n",
      "BVerfGE 52, 1 [31]\n"
     ]
    }
   ],
   "source": [
    "# It has the typical properties of a list.\n",
    "# For example, you can print the number of citations or iterate over it.\n",
    "\n",
    "print(len(our_string_citation))\n",
    "\n",
    "for element in our_string_citation:\n",
    "    print(element)"
   ]
  },
  {
   "cell_type": "code",
   "execution_count": 9,
   "metadata": {},
   "outputs": [
    {
     "name": "stdout",
     "output_type": "stream",
     "text": [
      "['BVerfGE37_132', 'BVerfGE50_290', 'BVerfGE52_1']\n",
      "[BVerfGE 37, 132 [140], BVerfGE 50, 290 [339], BVerfGE 52, 1 [31]]\n"
     ]
    }
   ],
   "source": [
    "#Again, there are methods to make it easier to deal with string citations.\n",
    "\n",
    "# make a list of citation as strings\n",
    "print(our_string_citation.to_short_str())\n",
    "\n",
    "#make a list of Verweis objects\n",
    "print(our_string_citation.to_list())"
   ]
  },
  {
   "attachments": {},
   "cell_type": "markdown",
   "metadata": {},
   "source": [
    "## Automatic Extraction\n",
    "\n",
    "One advantage of this approach is the scalability, which pays off when working with many references. To demonstrate this, in the following we will take a decision and extract all string citations.\n",
    "\n",
    "We have provided the entire decision text of the Naßauskiesung as an example. It is from the LLCon corpus in an xml format (see *data/BVerfGE58,300.xml*).\n",
    "\n",
    "As code we already provided the necessary functions to prepare the data, extract the references and return them as *Verweiskette* objects.\n",
    "\n",
    "For the extraction we used regex pattern."
   ]
  },
  {
   "cell_type": "code",
   "execution_count": 10,
   "metadata": {},
   "outputs": [
    {
     "name": "stdout",
     "output_type": "stream",
     "text": [
      "<class 'str'>\n",
      "B. Die Vorlage ist zulässig. I. Das Verfahren der Normenkontrolle nach Art. 100 Abs. 1 GG dient dem Ziel, eine verfassungsmäßige Entscheidung in einem konkreten Rechtsstreit zu gewährleisten. Demgemäß ist dieses Zwischenverfahren dann geboten und zulässig, wenn es für die im Ausgangsverfahren zu treffende Entscheidung auf die Gültigkeit der zur Prüfung gestellten Norm ankommt; sie muß für den Ausgang des Rechtsstreits entscheidungserheblich sein. Dies ist nur dann der Fall, wenn bei Ungültigkeit der Norm anders entschieden werden müßte als bei deren Gültigkeit (BVerfGE 46, 268 [283]). Diesen Erfordernissen genügt der Vorlagebeschluß nur unter der Voraussetzung, daß die Vorlagefrage (§ 81 BVerfGG) dahin gedeutet wird, ob die beanstandeten Vorschriften des Wasserhaushaltsgesetzes mit dem Grundgesetz unvereinbar sind, weil es sich um enteignende Normen handele, die keine dem Art. 14 Abs. 3 Satz 2 GG entsprechende Entschädigungsregelung enthalten. Außerdem ist die verfassungsgerichtliche P\n"
     ]
    }
   ],
   "source": [
    "# load decision as a pandas dataframe\n",
    "import pandas as pd\n",
    "\n",
    "dec_df = load_llcon_xml(\"data/BVerfGE58,300.xml\")\n",
    "dec_df['text_raw'] = dec_df.text_raw + \" \"\n",
    "nassauskiesung = dec_df.groupby(\"tbeg\").agg({'text_raw': 'sum'}).loc['eg']['text_raw']\n",
    "\n",
    "# Creating one string that contains the whole reasoning of the decision.\n",
    "\n",
    "print(type(nassauskiesung))\n",
    "print(nassauskiesung[:1000])"
   ]
  },
  {
   "cell_type": "code",
   "execution_count": 11,
   "metadata": {},
   "outputs": [
    {
     "data": {
      "text/plain": [
       "[BVerfGE 46, 268 [283],\n",
       " BVerfGE 46, 268 [285],\n",
       " BVerfGE 24, 367 [418]; 46, 268 [287],\n",
       " BVerfGE 52, 1 [27 f.],\n",
       " BVerfGE 52, 1 [27],\n",
       " BVerfGE 45, 63,\n",
       " BVerfGE 32, 195 [197],\n",
       " BVerfGE 24, 367 [404 f.],\n",
       " BVerfGE 25, 112 [114]; 51, 193 [210f.]; 52, 1 [14],\n",
       " BVerfGE 24, 367 [400]; 38, 175 [181, 184 f.],\n",
       " BVerfGE 56, 249 [266],\n",
       " BVerfGE 45, 297 [342 ff.],\n",
       " BVerfGE 45, 297 [346]; 53, 336 [349],\n",
       " BVerfGE 45, 63,\n",
       " BVerfGE 24, 119 [133 f.]; 41, 269 [278]; 42, 42 [52],\n",
       " BVerfGE 52, 1 [27],\n",
       " BVerfGE 24, 367 [395 f.]; 45, 297 [325 f.]; 52, 1 [27],\n",
       " BVerfGE 24, 367 [401]; 45, 297 [331, 333],\n",
       " BVerfGE 45, 297 [326],\n",
       " BVerfGE 45, 297 [332]; 52, 1 [28],\n",
       " BVerfGE 25, 112 [121]; 29, 348 [360],\n",
       " BVerfGE 42, 20 [28 ff.],\n",
       " BVerfGE 21, 73 [83]; 25, 112 [117f.]; 37, 132 [140f.]; 50, 290 [340]; 52, 1 [29],\n",
       " BVerfGE 42, 20 [30ff.],\n",
       " BVerfGE 49, 382 [393],\n",
       " BVerfGE 31, 275 [285]; 51, 193 [207],\n",
       " BVerfGE 37, 132 [140]; 52, 1 [29],\n",
       " BVerfGE 31, 229 [248],\n",
       " BVerfGE 20, 351 [355]; 24, 367 [389],\n",
       " BVerfGE 24, 367 [389],\n",
       " BVerfGE 24, 367 [389 f.],\n",
       " BVerfGE 10, 89 [113],\n",
       " BVerfGE 37, 132 [140]; 50, 290 [339]; 52, 1 [31],\n",
       " BVerfGE 21, 73 [83]; 25, 112 [117],\n",
       " BVerfGE 20, 150 [154 f.],\n",
       " BVerfGE 18, 353 [363],\n",
       " BVerfGE 31, 229 [239]; 50, 290 [339]; 51, 193 [217 f.],\n",
       " BVerfGE 31, 275 [285,290]; 36, 281 [293]; 43, 242 [288]]"
      ]
     },
     "execution_count": 11,
     "metadata": {},
     "output_type": "execute_result"
    }
   ],
   "source": [
    "# extraction of references\n",
    "nassauskiesung_ref = search_bverfge_verweis(nassauskiesung)\n",
    "nassauskiesung_ref"
   ]
  },
  {
   "cell_type": "code",
   "execution_count": 12,
   "metadata": {},
   "outputs": [
    {
     "name": "stdout",
     "output_type": "stream",
     "text": [
      "38\n",
      "<class 'list'>\n",
      "<class 'bverfgex.verweis.Verweiskette'>\n"
     ]
    }
   ],
   "source": [
    "# As output we get a list with all string citations as *Verweisketten* objects\n",
    "print(len(nassauskiesung_ref))\n",
    "print(type(nassauskiesung_ref))\n",
    "print(type(nassauskiesung_ref[0]))"
   ]
  },
  {
   "cell_type": "code",
   "execution_count": 13,
   "metadata": {},
   "outputs": [
    {
     "data": {
      "text/html": [
       "<div>\n",
       "<style scoped>\n",
       "    .dataframe tbody tr th:only-of-type {\n",
       "        vertical-align: middle;\n",
       "    }\n",
       "\n",
       "    .dataframe tbody tr th {\n",
       "        vertical-align: top;\n",
       "    }\n",
       "\n",
       "    .dataframe thead th {\n",
       "        text-align: right;\n",
       "    }\n",
       "</style>\n",
       "<table border=\"1\" class=\"dataframe\">\n",
       "  <thead>\n",
       "    <tr style=\"text-align: right;\">\n",
       "      <th></th>\n",
       "      <th>ref</th>\n",
       "      <th>len</th>\n",
       "    </tr>\n",
       "  </thead>\n",
       "  <tbody>\n",
       "    <tr>\n",
       "      <th>0</th>\n",
       "      <td>(BVerfGE 46, 268 [283])</td>\n",
       "      <td>1</td>\n",
       "    </tr>\n",
       "    <tr>\n",
       "      <th>1</th>\n",
       "      <td>(BVerfGE 46, 268 [285])</td>\n",
       "      <td>1</td>\n",
       "    </tr>\n",
       "    <tr>\n",
       "      <th>2</th>\n",
       "      <td>(BVerfGE 24, 367 [418], BVerfGE 46, 268 [287])</td>\n",
       "      <td>2</td>\n",
       "    </tr>\n",
       "    <tr>\n",
       "      <th>3</th>\n",
       "      <td>(BVerfGE 52, 1 [27 f.])</td>\n",
       "      <td>1</td>\n",
       "    </tr>\n",
       "    <tr>\n",
       "      <th>4</th>\n",
       "      <td>(BVerfGE 52, 1 [27])</td>\n",
       "      <td>1</td>\n",
       "    </tr>\n",
       "  </tbody>\n",
       "</table>\n",
       "</div>"
      ],
      "text/plain": [
       "                                              ref  len\n",
       "0                         (BVerfGE 46, 268 [283])    1\n",
       "1                         (BVerfGE 46, 268 [285])    1\n",
       "2  (BVerfGE 24, 367 [418], BVerfGE 46, 268 [287])    2\n",
       "3                         (BVerfGE 52, 1 [27 f.])    1\n",
       "4                            (BVerfGE 52, 1 [27])    1"
      ]
     },
     "execution_count": 13,
     "metadata": {},
     "output_type": "execute_result"
    }
   ],
   "source": [
    "# For simplified handling, we can insert this data into a pandas dataframe.\n",
    "ref_data = pd.DataFrame({\n",
    "    'ref': nassauskiesung_ref,\n",
    "    'len': [len(x) for x in nassauskiesung_ref]\n",
    "})\n",
    "\n",
    "ref_data.head()"
   ]
  },
  {
   "cell_type": "code",
   "execution_count": 14,
   "metadata": {},
   "outputs": [
    {
     "data": {
      "text/plain": [
       "len\n",
       "1    21\n",
       "2    10\n",
       "3     6\n",
       "5     1\n",
       "dtype: int64"
      ]
     },
     "execution_count": 14,
     "metadata": {},
     "output_type": "execute_result"
    }
   ],
   "source": [
    "# so we can get an overview of the length of the string citations\n",
    "ref_data.value_counts('len')"
   ]
  },
  {
   "cell_type": "code",
   "execution_count": 15,
   "metadata": {},
   "outputs": [
    {
     "data": {
      "text/html": [
       "<div>\n",
       "<style scoped>\n",
       "    .dataframe tbody tr th:only-of-type {\n",
       "        vertical-align: middle;\n",
       "    }\n",
       "\n",
       "    .dataframe tbody tr th {\n",
       "        vertical-align: top;\n",
       "    }\n",
       "\n",
       "    .dataframe thead th {\n",
       "        text-align: right;\n",
       "    }\n",
       "</style>\n",
       "<table border=\"1\" class=\"dataframe\">\n",
       "  <thead>\n",
       "    <tr style=\"text-align: right;\">\n",
       "      <th></th>\n",
       "      <th>ref</th>\n",
       "      <th>len</th>\n",
       "    </tr>\n",
       "  </thead>\n",
       "  <tbody>\n",
       "    <tr>\n",
       "      <th>8</th>\n",
       "      <td>(BVerfGE 25, 112 [114], BVerfGE 51, 193 [210f....</td>\n",
       "      <td>3</td>\n",
       "    </tr>\n",
       "    <tr>\n",
       "      <th>14</th>\n",
       "      <td>(BVerfGE 24, 119 [133 f.], BVerfGE 41, 269 [27...</td>\n",
       "      <td>3</td>\n",
       "    </tr>\n",
       "    <tr>\n",
       "      <th>16</th>\n",
       "      <td>(BVerfGE 24, 367 [395 f.], BVerfGE 45, 297 [32...</td>\n",
       "      <td>3</td>\n",
       "    </tr>\n",
       "    <tr>\n",
       "      <th>22</th>\n",
       "      <td>(BVerfGE 21, 73 [83], BVerfGE 25, 112 [117f.],...</td>\n",
       "      <td>5</td>\n",
       "    </tr>\n",
       "    <tr>\n",
       "      <th>32</th>\n",
       "      <td>(BVerfGE 37, 132 [140], BVerfGE 50, 290 [339],...</td>\n",
       "      <td>3</td>\n",
       "    </tr>\n",
       "    <tr>\n",
       "      <th>36</th>\n",
       "      <td>(BVerfGE 31, 229 [239], BVerfGE 50, 290 [339],...</td>\n",
       "      <td>3</td>\n",
       "    </tr>\n",
       "    <tr>\n",
       "      <th>37</th>\n",
       "      <td>(BVerfGE 31, 275 [285,290], BVerfGE 36, 281 [2...</td>\n",
       "      <td>3</td>\n",
       "    </tr>\n",
       "  </tbody>\n",
       "</table>\n",
       "</div>"
      ],
      "text/plain": [
       "                                                  ref  len\n",
       "8   (BVerfGE 25, 112 [114], BVerfGE 51, 193 [210f....    3\n",
       "14  (BVerfGE 24, 119 [133 f.], BVerfGE 41, 269 [27...    3\n",
       "16  (BVerfGE 24, 367 [395 f.], BVerfGE 45, 297 [32...    3\n",
       "22  (BVerfGE 21, 73 [83], BVerfGE 25, 112 [117f.],...    5\n",
       "32  (BVerfGE 37, 132 [140], BVerfGE 50, 290 [339],...    3\n",
       "36  (BVerfGE 31, 229 [239], BVerfGE 50, 290 [339],...    3\n",
       "37  (BVerfGE 31, 275 [285,290], BVerfGE 36, 281 [2...    3"
      ]
     },
     "execution_count": 15,
     "metadata": {},
     "output_type": "execute_result"
    }
   ],
   "source": [
    "# or filter all chains with a certain length\n",
    "ref_data[ref_data.len > 2]"
   ]
  },
  {
   "cell_type": "code",
   "execution_count": 16,
   "metadata": {},
   "outputs": [
    {
     "data": {
      "text/html": [
       "<div>\n",
       "<style scoped>\n",
       "    .dataframe tbody tr th:only-of-type {\n",
       "        vertical-align: middle;\n",
       "    }\n",
       "\n",
       "    .dataframe tbody tr th {\n",
       "        vertical-align: top;\n",
       "    }\n",
       "\n",
       "    .dataframe thead th {\n",
       "        text-align: right;\n",
       "    }\n",
       "</style>\n",
       "<table border=\"1\" class=\"dataframe\">\n",
       "  <thead>\n",
       "    <tr style=\"text-align: right;\">\n",
       "      <th></th>\n",
       "      <th>ref</th>\n",
       "      <th>len</th>\n",
       "      <th>ref_list</th>\n",
       "    </tr>\n",
       "  </thead>\n",
       "  <tbody>\n",
       "    <tr>\n",
       "      <th>0</th>\n",
       "      <td>(BVerfGE 46, 268 [283])</td>\n",
       "      <td>1</td>\n",
       "      <td>[BVerfGE46_268]</td>\n",
       "    </tr>\n",
       "    <tr>\n",
       "      <th>1</th>\n",
       "      <td>(BVerfGE 46, 268 [285])</td>\n",
       "      <td>1</td>\n",
       "      <td>[BVerfGE46_268]</td>\n",
       "    </tr>\n",
       "    <tr>\n",
       "      <th>2</th>\n",
       "      <td>(BVerfGE 24, 367 [418], BVerfGE 46, 268 [287])</td>\n",
       "      <td>2</td>\n",
       "      <td>[BVerfGE24_367, BVerfGE46_268]</td>\n",
       "    </tr>\n",
       "    <tr>\n",
       "      <th>3</th>\n",
       "      <td>(BVerfGE 52, 1 [27 f.])</td>\n",
       "      <td>1</td>\n",
       "      <td>[BVerfGE52_1]</td>\n",
       "    </tr>\n",
       "    <tr>\n",
       "      <th>4</th>\n",
       "      <td>(BVerfGE 52, 1 [27])</td>\n",
       "      <td>1</td>\n",
       "      <td>[BVerfGE52_1]</td>\n",
       "    </tr>\n",
       "  </tbody>\n",
       "</table>\n",
       "</div>"
      ],
      "text/plain": [
       "                                              ref  len  \\\n",
       "0                         (BVerfGE 46, 268 [283])    1   \n",
       "1                         (BVerfGE 46, 268 [285])    1   \n",
       "2  (BVerfGE 24, 367 [418], BVerfGE 46, 268 [287])    2   \n",
       "3                         (BVerfGE 52, 1 [27 f.])    1   \n",
       "4                            (BVerfGE 52, 1 [27])    1   \n",
       "\n",
       "                         ref_list  \n",
       "0                 [BVerfGE46_268]  \n",
       "1                 [BVerfGE46_268]  \n",
       "2  [BVerfGE24_367, BVerfGE46_268]  \n",
       "3                   [BVerfGE52_1]  \n",
       "4                   [BVerfGE52_1]  "
      ]
     },
     "execution_count": 16,
     "metadata": {},
     "output_type": "execute_result"
    }
   ],
   "source": [
    "# This way, the built-in methods and attributes can be used very efficiently for many references.\n",
    "\n",
    "# Here, each *Verweisketten* object becomes a list in the short string format.\n",
    "# This format that has been used by others in the literature for network analysis.\n",
    "\n",
    "ref_data['ref_list'] = ref_data['ref'].apply(lambda x: x.to_short_str())\n",
    "ref_data.head(5)"
   ]
  },
  {
   "attachments": {},
   "cell_type": "markdown",
   "metadata": {},
   "source": [
    "## Use of network packages\n",
    "\n",
    "*Verweisketten* data can also be easily prepared so that it can be used with other tools. This is especially important for network libraries in Pyhton and R, such as networkx or igraph. To make the data accessible for the work with such tools, one can for example create lists of weighted edges.\n",
    "\n",
    "As a small example, we create a network from the decisions referenced by the Naskauskießung decision. Therefore, we use networkx, a standard library for network analysis and visualisation in Python."
   ]
  },
  {
   "cell_type": "code",
   "execution_count": 17,
   "metadata": {},
   "outputs": [
    {
     "data": {
      "text/plain": [
       "[('BVerfGE58,300', 'BVerfGE31_275', 2),\n",
       " ('BVerfGE58,300', 'BVerfGE24_367', 8),\n",
       " ('BVerfGE58,300', 'BVerfGE25_112', 4),\n",
       " ('BVerfGE58,300', 'BVerfGE46_268', 3),\n",
       " ('BVerfGE58,300', 'BVerfGE36_281', 1),\n",
       " ('BVerfGE58,300', 'BVerfGE43_242', 1),\n",
       " ('BVerfGE58,300', 'BVerfGE20_150', 1),\n",
       " ('BVerfGE58,300', 'BVerfGE10_89', 1),\n",
       " ('BVerfGE58,300', 'BVerfGE37_132', 3),\n",
       " ('BVerfGE58,300', 'BVerfGE41_269', 1),\n",
       " ('BVerfGE58,300', 'BVerfGE49_382', 1),\n",
       " ('BVerfGE58,300', 'BVerfGE32_195', 1),\n",
       " ('BVerfGE58,300', 'BVerfGE29_348', 1),\n",
       " ('BVerfGE58,300', 'BVerfGE42_20', 2),\n",
       " ('BVerfGE58,300', 'BVerfGE51_193', 3),\n",
       " ('BVerfGE58,300', 'BVerfGE24_119', 1),\n",
       " ('BVerfGE58,300', 'BVerfGE31_229', 2),\n",
       " ('BVerfGE58,300', 'BVerfGE45_63', 2),\n",
       " ('BVerfGE58,300', 'BVerfGE53_336', 1),\n",
       " ('BVerfGE58,300', 'BVerfGE42_42', 1),\n",
       " ('BVerfGE58,300', 'BVerfGE56_249', 1),\n",
       " ('BVerfGE58,300', 'BVerfGE18_353', 1),\n",
       " ('BVerfGE58,300', 'BVerfGE52_1', 9),\n",
       " ('BVerfGE58,300', 'BVerfGE45_297', 6),\n",
       " ('BVerfGE58,300', 'BVerfGE38_175', 1),\n",
       " ('BVerfGE58,300', 'BVerfGE50_290', 3),\n",
       " ('BVerfGE58,300', 'BVerfGE20_351', 1),\n",
       " ('BVerfGE58,300', 'BVerfGE21_73', 2)]"
      ]
     },
     "execution_count": 17,
     "metadata": {},
     "output_type": "execute_result"
    }
   ],
   "source": [
    "# creat wighted edgelist\n",
    "\n",
    "import itertools\n",
    "\n",
    "# From nested list (chains of references) to flat list of references:\n",
    "# Here the information in which chain a reference occurs was ignored.\n",
    "outgoing_refs_list = list(itertools.chain(*ref_data.ref_list))\n",
    "\n",
    "weighted_edges = [('BVerfGE58,300',x,outgoing_refs_list.count(x)) for x in set(outgoing_refs_list)]\n",
    "weighted_edges"
   ]
  },
  {
   "cell_type": "code",
   "execution_count": 18,
   "metadata": {},
   "outputs": [
    {
     "data": {
      "image/png": "[encoded data removed]",
      "text/plain": [
       "<Figure size 640x480 with 1 Axes>"
      ]
     },
     "metadata": {},
     "output_type": "display_data"
    }
   ],
   "source": [
    "# import weighted edgelist in a network library\n",
    "\n",
    "import networkx as nx\n",
    "import matplotlib.pyplot as plt\n",
    "G = nx.Graph()\n",
    "G.add_weighted_edges_from(weighted_edges)\n",
    "\n",
    "nx.draw(G, with_labels=False)"
   ]
  },
  {
   "cell_type": "code",
   "execution_count": 19,
   "metadata": {},
   "outputs": [
    {
     "data": {
      "image/png": "[encoded data removed]",
      "text/plain": [
       "<Figure size 640x480 with 1 Axes>"
      ]
     },
     "metadata": {},
     "output_type": "display_data"
    }
   ],
   "source": [
    "# draw a weighted plot\n",
    "\n",
    "pos=nx.spring_layout(G)\n",
    "nx.draw_networkx(G,pos, with_labels=False)\n",
    "labels = nx.get_edge_attributes(G,'weight')\n",
    "nx.draw_networkx_edge_labels(G,pos,edge_labels=labels)\n",
    "plt.show()"
   ]
  },
  {
   "attachments": {},
   "cell_type": "markdown",
   "metadata": {},
   "source": [
    "## Exemplary analyses\n",
    "\n",
    "\n",
    "Given the possibilities of what our approach, we want to conclude by giving two examples of what substantive questions we can answer. \n",
    "The first example is about chain citiation. Here, the question is whether there are typical chains, i.e., chains that occur more frequently. It is also interesting to see which references frequently occur together in a chain.\n",
    "The second example is about the exact page references. We want to see if there are certain pages in decisions that are cited more often.\n",
    "\n",
    "For this purpose we have prepared a small test data set. This contains references to the Nasauskiesungsbeschluss."
   ]
  },
  {
   "cell_type": "code",
   "execution_count": 20,
   "metadata": {},
   "outputs": [
    {
     "name": "stdout",
     "output_type": "stream",
     "text": [
      "(45, 4)\n"
     ]
    },
    {
     "data": {
      "text/html": [
       "<div>\n",
       "<style scoped>\n",
       "    .dataframe tbody tr th:only-of-type {\n",
       "        vertical-align: middle;\n",
       "    }\n",
       "\n",
       "    .dataframe tbody tr th {\n",
       "        vertical-align: top;\n",
       "    }\n",
       "\n",
       "    .dataframe thead th {\n",
       "        text-align: right;\n",
       "    }\n",
       "</style>\n",
       "<table border=\"1\" class=\"dataframe\">\n",
       "  <thead>\n",
       "    <tr style=\"text-align: right;\">\n",
       "      <th></th>\n",
       "      <th>source</th>\n",
       "      <th>datetime</th>\n",
       "      <th>ref</th>\n",
       "      <th>ref_len</th>\n",
       "    </tr>\n",
       "  </thead>\n",
       "  <tbody>\n",
       "    <tr>\n",
       "      <th>1897</th>\n",
       "      <td>BVerfGE67_26</td>\n",
       "      <td>1984-04-18</td>\n",
       "      <td>(BVerfGE 46, 268 [283], BVerfGE 58, 300 [317f.])</td>\n",
       "      <td>2</td>\n",
       "    </tr>\n",
       "    <tr>\n",
       "      <th>1944</th>\n",
       "      <td>BVerfGE68_361</td>\n",
       "      <td>1985-01-08</td>\n",
       "      <td>(BVerfGE 52, 1 [27], BVerfGE 58, 300 [330 ff.])</td>\n",
       "      <td>2</td>\n",
       "    </tr>\n",
       "    <tr>\n",
       "      <th>2019</th>\n",
       "      <td>BVerfGE70_115</td>\n",
       "      <td>1985-06-04</td>\n",
       "      <td>(BVerfGE 58, 300 [336])</td>\n",
       "      <td>1</td>\n",
       "    </tr>\n",
       "    <tr>\n",
       "      <th>2025</th>\n",
       "      <td>BVerfGE70_191</td>\n",
       "      <td>1985-06-19</td>\n",
       "      <td>(BVerfGE 1, 264 [278], BVerfGE 58, 300 [335 f.])</td>\n",
       "      <td>2</td>\n",
       "    </tr>\n",
       "    <tr>\n",
       "      <th>2025</th>\n",
       "      <td>BVerfGE70_191</td>\n",
       "      <td>1985-06-19</td>\n",
       "      <td>(BVerfGE 24, 367 [394], BVerfGE 38, 175 [180],...</td>\n",
       "      <td>6</td>\n",
       "    </tr>\n",
       "  </tbody>\n",
       "</table>\n",
       "</div>"
      ],
      "text/plain": [
       "             source   datetime  \\\n",
       "1897   BVerfGE67_26 1984-04-18   \n",
       "1944  BVerfGE68_361 1985-01-08   \n",
       "2019  BVerfGE70_115 1985-06-04   \n",
       "2025  BVerfGE70_191 1985-06-19   \n",
       "2025  BVerfGE70_191 1985-06-19   \n",
       "\n",
       "                                                    ref  ref_len  \n",
       "1897   (BVerfGE 46, 268 [283], BVerfGE 58, 300 [317f.])        2  \n",
       "1944    (BVerfGE 52, 1 [27], BVerfGE 58, 300 [330 ff.])        2  \n",
       "2019                            (BVerfGE 58, 300 [336])        1  \n",
       "2025   (BVerfGE 1, 264 [278], BVerfGE 58, 300 [335 f.])        2  \n",
       "2025  (BVerfGE 24, 367 [394], BVerfGE 38, 175 [180],...        6  "
      ]
     },
     "execution_count": 20,
     "metadata": {},
     "output_type": "execute_result"
    }
   ],
   "source": [
    "#import test df\n",
    "\n",
    "test_data = pd.read_pickle(\"data/bverfge_test_data.pkl\")\n",
    "print(test_data.shape)\n",
    "test_data.head()"
   ]
  },
  {
   "attachments": {},
   "cell_type": "markdown",
   "metadata": {},
   "source": [
    "### String Cocitation\n",
    "\n",
    "First, we want to extract all string citations in which the Nasauskiesungsbeschluss is referred to. It turns out that there are chains that are used repeatedly."
   ]
  },
  {
   "cell_type": "code",
   "execution_count": 21,
   "metadata": {},
   "outputs": [
    {
     "data": {
      "text/plain": [
       "[BVerfGE52_1, BVerfGE58_300]                                                                3\n",
       "[BVerfGE24_367, BVerfGE46_268, BVerfGE56_249, BVerfGE58_300]                                2\n",
       "[BVerfGE31_275, BVerfGE58_300]                                                              2\n",
       "[BVerfGE31_275, BVerfGE36_281, BVerfGE58_300]                                               2\n",
       "[BVerfGE31_275, BVerfGE36_281, BVerfGE42_263, BVerfGE58_300]                                2\n",
       "[BVerfGE42_263, BVerfGE58_300]                                                              2\n",
       "[BVerfGE46_268, BVerfGE58_300]                                                              1\n",
       "[BVerfGE10_89, BVerfGE58_300]                                                               1\n",
       "[BVerfGE58_300, BVerfGE70_191, BVerfGE83_201, BVerfGE100_226]                               1\n",
       "[BVerfGE52_1, BVerfGE58_137, BVerfGE58_300, BVerfGE70_191, BVerfGE72_66, BVerfGE100_226]    1\n",
       "Name: ref_list, dtype: int64"
      ]
     },
     "execution_count": 21,
     "metadata": {},
     "output_type": "execute_result"
    }
   ],
   "source": [
    "cs_data = test_data.copy()\n",
    "cs_data['ref_list'] = cs_data.ref.apply(lambda x: x.to_short_str())\n",
    "cs_data[cs_data.ref_len > 1].ref_list.value_counts().head(10)"
   ]
  },
  {
   "attachments": {},
   "cell_type": "markdown",
   "metadata": {},
   "source": [
    "Next, we want to know what other references are included in the string citations that also refer to the Nasauskiesung."
   ]
  },
  {
   "cell_type": "code",
   "execution_count": 22,
   "metadata": {},
   "outputs": [
    {
     "data": {
      "text/html": [
       "<div>\n",
       "<style scoped>\n",
       "    .dataframe tbody tr th:only-of-type {\n",
       "        vertical-align: middle;\n",
       "    }\n",
       "\n",
       "    .dataframe tbody tr th {\n",
       "        vertical-align: top;\n",
       "    }\n",
       "\n",
       "    .dataframe thead th {\n",
       "        text-align: right;\n",
       "    }\n",
       "</style>\n",
       "<table border=\"1\" class=\"dataframe\">\n",
       "  <thead>\n",
       "    <tr style=\"text-align: right;\">\n",
       "      <th></th>\n",
       "      <th>index</th>\n",
       "      <th>coditation</th>\n",
       "    </tr>\n",
       "  </thead>\n",
       "  <tbody>\n",
       "    <tr>\n",
       "      <th>0</th>\n",
       "      <td>BVerfGE52_1</td>\n",
       "      <td>7</td>\n",
       "    </tr>\n",
       "    <tr>\n",
       "      <th>1</th>\n",
       "      <td>BVerfGE31_275</td>\n",
       "      <td>6</td>\n",
       "    </tr>\n",
       "    <tr>\n",
       "      <th>2</th>\n",
       "      <td>BVerfGE42_263</td>\n",
       "      <td>5</td>\n",
       "    </tr>\n",
       "    <tr>\n",
       "      <th>3</th>\n",
       "      <td>BVerfGE36_281</td>\n",
       "      <td>4</td>\n",
       "    </tr>\n",
       "    <tr>\n",
       "      <th>4</th>\n",
       "      <td>BVerfGE46_268</td>\n",
       "      <td>3</td>\n",
       "    </tr>\n",
       "    <tr>\n",
       "      <th>5</th>\n",
       "      <td>BVerfGE70_191</td>\n",
       "      <td>3</td>\n",
       "    </tr>\n",
       "    <tr>\n",
       "      <th>6</th>\n",
       "      <td>BVerfGE100_226</td>\n",
       "      <td>3</td>\n",
       "    </tr>\n",
       "    <tr>\n",
       "      <th>7</th>\n",
       "      <td>BVerfGE24_367</td>\n",
       "      <td>3</td>\n",
       "    </tr>\n",
       "    <tr>\n",
       "      <th>8</th>\n",
       "      <td>BVerfGE63_1</td>\n",
       "      <td>2</td>\n",
       "    </tr>\n",
       "    <tr>\n",
       "      <th>9</th>\n",
       "      <td>BVerfGE72_66</td>\n",
       "      <td>2</td>\n",
       "    </tr>\n",
       "  </tbody>\n",
       "</table>\n",
       "</div>"
      ],
      "text/plain": [
       "            index  coditation\n",
       "0     BVerfGE52_1           7\n",
       "1   BVerfGE31_275           6\n",
       "2   BVerfGE42_263           5\n",
       "3   BVerfGE36_281           4\n",
       "4   BVerfGE46_268           3\n",
       "5   BVerfGE70_191           3\n",
       "6  BVerfGE100_226           3\n",
       "7   BVerfGE24_367           3\n",
       "8     BVerfGE63_1           2\n",
       "9    BVerfGE72_66           2"
      ]
     },
     "execution_count": 22,
     "metadata": {},
     "output_type": "execute_result"
    }
   ],
   "source": [
    "coref_test_data = cs_data[cs_data.ref_len > 1].explode('ref_list').reset_index()\n",
    "coref_test_data = coref_test_data.drop(coref_test_data[coref_test_data.ref_list == \"BVerfGE58_300\"].index)\n",
    "coref_test_data.ref_list.value_counts().to_frame().reset_index().rename(columns={'ref_list':'coditation',0:'n'}).head(10)"
   ]
  },
  {
   "attachments": {},
   "cell_type": "markdown",
   "metadata": {},
   "source": [
    "#### Exact References\n",
    "\n",
    "Lastly, it is about the exact place references. This has not yet been considered in research. However, it is interesting to know if specific passages in decisions receive special attention.\n",
    "In the example below, we look at which passages of the Naßauskiesungsbeschluss are referenced."
   ]
  },
  {
   "cell_type": "code",
   "execution_count": 23,
   "metadata": {},
   "outputs": [
    {
     "data": {
      "text/html": [
       "<div>\n",
       "<style scoped>\n",
       "    .dataframe tbody tr th:only-of-type {\n",
       "        vertical-align: middle;\n",
       "    }\n",
       "\n",
       "    .dataframe tbody tr th {\n",
       "        vertical-align: top;\n",
       "    }\n",
       "\n",
       "    .dataframe thead th {\n",
       "        text-align: right;\n",
       "    }\n",
       "</style>\n",
       "<table border=\"1\" class=\"dataframe\">\n",
       "  <thead>\n",
       "    <tr style=\"text-align: right;\">\n",
       "      <th></th>\n",
       "      <th>source</th>\n",
       "      <th>datetime</th>\n",
       "      <th>ref</th>\n",
       "      <th>ref_len</th>\n",
       "      <th>str</th>\n",
       "      <th>page</th>\n",
       "      <th>page_nr</th>\n",
       "    </tr>\n",
       "  </thead>\n",
       "  <tbody>\n",
       "    <tr>\n",
       "      <th>1897</th>\n",
       "      <td>BVerfGE67_26</td>\n",
       "      <td>1984-04-18</td>\n",
       "      <td>BVerfGE 58, 300 [317f.]</td>\n",
       "      <td>2</td>\n",
       "      <td>BVerfGE58_300</td>\n",
       "      <td>317f.</td>\n",
       "      <td>317</td>\n",
       "    </tr>\n",
       "    <tr>\n",
       "      <th>1944</th>\n",
       "      <td>BVerfGE68_361</td>\n",
       "      <td>1985-01-08</td>\n",
       "      <td>BVerfGE 58, 300 [330 ff.]</td>\n",
       "      <td>2</td>\n",
       "      <td>BVerfGE58_300</td>\n",
       "      <td>330 ff.</td>\n",
       "      <td>330</td>\n",
       "    </tr>\n",
       "    <tr>\n",
       "      <th>2019</th>\n",
       "      <td>BVerfGE70_115</td>\n",
       "      <td>1985-06-04</td>\n",
       "      <td>BVerfGE 58, 300 [336]</td>\n",
       "      <td>1</td>\n",
       "      <td>BVerfGE58_300</td>\n",
       "      <td>336</td>\n",
       "      <td>336</td>\n",
       "    </tr>\n",
       "    <tr>\n",
       "      <th>2025</th>\n",
       "      <td>BVerfGE70_191</td>\n",
       "      <td>1985-06-19</td>\n",
       "      <td>BVerfGE 58, 300 [335 f.]</td>\n",
       "      <td>2</td>\n",
       "      <td>BVerfGE58_300</td>\n",
       "      <td>335 f.</td>\n",
       "      <td>335</td>\n",
       "    </tr>\n",
       "    <tr>\n",
       "      <th>2025</th>\n",
       "      <td>BVerfGE70_191</td>\n",
       "      <td>1985-06-19</td>\n",
       "      <td>BVerfGE 58, 300 [331]</td>\n",
       "      <td>6</td>\n",
       "      <td>BVerfGE58_300</td>\n",
       "      <td>331</td>\n",
       "      <td>331</td>\n",
       "    </tr>\n",
       "  </tbody>\n",
       "</table>\n",
       "</div>"
      ],
      "text/plain": [
       "             source   datetime                        ref  ref_len  \\\n",
       "1897   BVerfGE67_26 1984-04-18    BVerfGE 58, 300 [317f.]        2   \n",
       "1944  BVerfGE68_361 1985-01-08  BVerfGE 58, 300 [330 ff.]        2   \n",
       "2019  BVerfGE70_115 1985-06-04      BVerfGE 58, 300 [336]        1   \n",
       "2025  BVerfGE70_191 1985-06-19   BVerfGE 58, 300 [335 f.]        2   \n",
       "2025  BVerfGE70_191 1985-06-19      BVerfGE 58, 300 [331]        6   \n",
       "\n",
       "                str     page page_nr  \n",
       "1897  BVerfGE58_300    317f.     317  \n",
       "1944  BVerfGE58_300  330 ff.     330  \n",
       "2019  BVerfGE58_300      336     336  \n",
       "2025  BVerfGE58_300   335 f.     335  \n",
       "2025  BVerfGE58_300      331     331  "
      ]
     },
     "execution_count": 23,
     "metadata": {},
     "output_type": "execute_result"
    }
   ],
   "source": [
    "page_data = test_data.explode('ref')\n",
    "page_data['str'] = page_data.ref.apply(lambda x: x.to_short_str())\n",
    "page_data = page_data[page_data['str'] == \"BVerfGE58_300\"]\n",
    "page_data['page'] = page_data.ref.apply(lambda x: x.ref)\n",
    "page_data['page_nr'] = page_data.ref.apply(lambda x: x.ref_clean)\n",
    "page_data.head()"
   ]
  },
  {
   "cell_type": "code",
   "execution_count": 24,
   "metadata": {},
   "outputs": [
    {
     "data": {
      "text/html": [
       "<div>\n",
       "<style scoped>\n",
       "    .dataframe tbody tr th:only-of-type {\n",
       "        vertical-align: middle;\n",
       "    }\n",
       "\n",
       "    .dataframe tbody tr th {\n",
       "        vertical-align: top;\n",
       "    }\n",
       "\n",
       "    .dataframe thead th {\n",
       "        text-align: right;\n",
       "    }\n",
       "</style>\n",
       "<table border=\"1\" class=\"dataframe\">\n",
       "  <thead>\n",
       "    <tr style=\"text-align: right;\">\n",
       "      <th></th>\n",
       "      <th>page</th>\n",
       "      <th>n</th>\n",
       "    </tr>\n",
       "  </thead>\n",
       "  <tbody>\n",
       "    <tr>\n",
       "      <th>0</th>\n",
       "      <td>351</td>\n",
       "      <td>8</td>\n",
       "    </tr>\n",
       "    <tr>\n",
       "      <th>1</th>\n",
       "      <td>330</td>\n",
       "      <td>5</td>\n",
       "    </tr>\n",
       "    <tr>\n",
       "      <th>2</th>\n",
       "      <td>317</td>\n",
       "      <td>4</td>\n",
       "    </tr>\n",
       "    <tr>\n",
       "      <th>3</th>\n",
       "      <td>335</td>\n",
       "      <td>4</td>\n",
       "    </tr>\n",
       "    <tr>\n",
       "      <th>4</th>\n",
       "      <td>320</td>\n",
       "      <td>3</td>\n",
       "    </tr>\n",
       "    <tr>\n",
       "      <th>5</th>\n",
       "      <td>336</td>\n",
       "      <td>3</td>\n",
       "    </tr>\n",
       "    <tr>\n",
       "      <th>6</th>\n",
       "      <td>353</td>\n",
       "      <td>3</td>\n",
       "    </tr>\n",
       "    <tr>\n",
       "      <th>7</th>\n",
       "      <td>352</td>\n",
       "      <td>2</td>\n",
       "    </tr>\n",
       "    <tr>\n",
       "      <th>8</th>\n",
       "      <td>338</td>\n",
       "      <td>2</td>\n",
       "    </tr>\n",
       "    <tr>\n",
       "      <th>9</th>\n",
       "      <td>318</td>\n",
       "      <td>2</td>\n",
       "    </tr>\n",
       "  </tbody>\n",
       "</table>\n",
       "</div>"
      ],
      "text/plain": [
       "  page  n\n",
       "0  351  8\n",
       "1  330  5\n",
       "2  317  4\n",
       "3  335  4\n",
       "4  320  3\n",
       "5  336  3\n",
       "6  353  3\n",
       "7  352  2\n",
       "8  338  2\n",
       "9  318  2"
      ]
     },
     "execution_count": 24,
     "metadata": {},
     "output_type": "execute_result"
    }
   ],
   "source": [
    "page_data.page_nr.value_counts().to_frame().reset_index().rename(columns={'index':'page', 'page_nr':'n'}).head(10)"
   ]
  }
 ],
 "metadata": {
  "kernelspec": {
   "display_name": "base",
   "language": "python",
   "name": "python3"
  },
  "language_info": {
   "codemirror_mode": {
    "name": "ipython",
    "version": 3
   },
   "file_extension": ".py",
   "mimetype": "text/x-python",
   "name": "python",
   "nbconvert_exporter": "python",
   "pygments_lexer": "ipython3",
   "version": "3.10.11"
  },
  "orig_nbformat": 4
 },
 "nbformat": 4,
 "nbformat_minor": 2
}
